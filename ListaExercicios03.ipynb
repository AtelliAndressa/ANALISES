{
  "nbformat": 4,
  "nbformat_minor": 0,
  "metadata": {
    "kernelspec": {
      "display_name": "Python 3",
      "language": "python",
      "name": "python3"
    },
    "language_info": {
      "codemirror_mode": {
        "name": "ipython",
        "version": 3
      },
      "file_extension": ".py",
      "mimetype": "text/x-python",
      "name": "python",
      "nbconvert_exporter": "python",
      "pygments_lexer": "ipython3",
      "version": "3.8.3"
    },
    "colab": {
      "name": "ListaExercicios03.ipynb",
      "provenance": [],
      "include_colab_link": true
    }
  },
  "cells": [
    {
      "cell_type": "markdown",
      "metadata": {
        "id": "view-in-github",
        "colab_type": "text"
      },
      "source": [
        "<a href=\"https://colab.research.google.com/github/AtelliAndressa/ANALISES/blob/main/ListaExercicios03.ipynb\" target=\"_parent\"><img src=\"https://colab.research.google.com/assets/colab-badge.svg\" alt=\"Open In Colab\"/></a>"
      ]
    },
    {
      "cell_type": "markdown",
      "metadata": {
        "id": "2xW_d30SFdNC"
      },
      "source": [
        "# Disciplina: Algoritmos e Introdução a Computação\n",
        "   "
      ]
    },
    {
      "cell_type": "code",
      "metadata": {
        "id": "2I7-lanBFdND"
      },
      "source": [
        "# Prof. Rafael Christófano\n",
        "# Turma: 2020-2"
      ],
      "execution_count": null,
      "outputs": []
    },
    {
      "cell_type": "code",
      "metadata": {
        "id": "Kkyx5_ArFdNH"
      },
      "source": [
        "# Aluno: Andressa Flavia Atelli de Sa"
      ],
      "execution_count": null,
      "outputs": []
    },
    {
      "cell_type": "markdown",
      "metadata": {
        "id": "bIwPnKcWFdNK"
      },
      "source": [
        "# Terceira Lista de Exercícios em Python"
      ]
    },
    {
      "cell_type": "code",
      "metadata": {
        "id": "IP1BKNxoFdNL"
      },
      "source": [
        "#ATENÇÃO: não usap Loop for, use somente While"
      ],
      "execution_count": null,
      "outputs": []
    },
    {
      "cell_type": "code",
      "metadata": {
        "id": "Gpgoi6PbFdNO",
        "outputId": "8a8282fa-2846-465e-c84d-1e4dc5a1ebd0"
      },
      "source": [
        "# 1 - Faça um programa que peça uma nota, entre zero e dez. Mostre uma mensagem caso o valor seja inválido e continue pedindo\n",
        "# até que o usuário informe um valor válido.\n",
        "\n",
        "\n",
        "while True:\n",
        "    nota = int(input('Digite uma nota de 0 a 10: '))\n",
        "    if (nota < 0) or (nota > 10):\n",
        "        print('Valor inválido, tente outra vez.')\n",
        "    else:\n",
        "        print(f'A nota digitada foi {nota}')\n",
        "        break"
      ],
      "execution_count": null,
      "outputs": [
        {
          "output_type": "stream",
          "text": [
            "Digite uma nota de 0 a 10: 2\n",
            "A nota digitada foi 2\n"
          ],
          "name": "stdout"
        }
      ]
    },
    {
      "cell_type": "code",
      "metadata": {
        "id": "1BVjH-mUFdNR",
        "outputId": "1cad6d08-ec37-43e0-dad8-3bdd6aaa58c7",
        "colab": {
          "base_uri": "https://localhost:8080/"
        }
      },
      "source": [
        "# 2 - Faça um programa que imprima na tela apenas os números ímpares entre 1 e 50.\n",
        "\n",
        "contador = 1\n",
        "while contador < 49:\n",
        "    contador += 2\n",
        "    print(contador, end=' ')\n",
        "    \n",
        "    \n",
        "    \n",
        "    "
      ],
      "execution_count": null,
      "outputs": [
        {
          "output_type": "stream",
          "text": [
            "3 5 7 9 11 13 15 17 19 21 23 25 27 29 31 33 35 37 39 41 43 45 47 49 "
          ],
          "name": "stdout"
        }
      ]
    },
    {
      "cell_type": "code",
      "metadata": {
        "id": "b0XcomtMFdNU",
        "outputId": "a4d2dac2-e934-4cec-d0ad-0a097623c5b4"
      },
      "source": [
        "# 3 - Faça um programa que receba dois números inteiros e gere os números inteiros que estão no intervalo \n",
        "# compreendido por eles. O primeiro número deve sempre se menor que o segundo.\n",
        "\n",
        "n1 = int(input('Digite um número: '))\n",
        "n2 = int(input('Digite outro numero: '))\n",
        "while n1 < n2:\n",
        "    n1 += 1\n",
        "    print(f'   {n1-1}', end='  ')\n",
        "while n2 < n1:\n",
        "    n2 += 1\n",
        "    print(f'   {n2}', end='  ')\n"
      ],
      "execution_count": null,
      "outputs": [
        {
          "output_type": "stream",
          "text": [
            "Digite um número: 16\n",
            "Digite outro numero: 8\n",
            "   9     10     11     12     13     14     15     16  "
          ],
          "name": "stdout"
        }
      ]
    },
    {
      "cell_type": "code",
      "metadata": {
        "id": "TpOEIeDaFdNW",
        "outputId": "068f0f38-6d8a-4d3c-e030-1a04294f131e"
      },
      "source": [
        "# 4 - Faça um programa que leia um nome de usuário e a sua senha e não aceite a senha igual ao nome do usuário e senhas somente\n",
        "# numéricas. O programa deve mostrar uma mensagem de erro e voltando a pedir as informações.\n",
        "\n",
        "while True:\n",
        "    usuario = str(input('Digite seu usuário: ')).upper()\n",
        "    senha = str(input('Digite sua senha numerica: '))\n",
        "    if usuario != senha:\n",
        "        print(\"Login efetuado com sucesso.\")\n",
        "        break\n",
        "    elif usuario == senha:\n",
        "        print('O usuario e a senha devem ser diferentes')"
      ],
      "execution_count": null,
      "outputs": [
        {
          "output_type": "stream",
          "text": [
            "Digite seu usuário: 1234\n",
            "Digite sua senha numerica: 1234\n",
            "O usuario e a senha devem ser diferentes\n",
            "Digite seu usuário: maria\n",
            "Digite sua senha numerica: 1234\n",
            "Login efetuado com sucesso.\n"
          ],
          "name": "stdout"
        }
      ]
    },
    {
      "cell_type": "code",
      "metadata": {
        "id": "EvotvtXtFdNZ",
        "outputId": "0756d2bf-f45a-4367-c1f9-8cd04baaafdb"
      },
      "source": [
        "# 5 - Faça um programa que leia e valide as informações abaixo e só conclua quando o usuário digitar todas as\n",
        "#informaçòes corretamente. Dica: Caso o usuário já tenha digitado um valor corretamente, não deve ser solicitado que digite \n",
        "#novamente em caso de erro nas váriáveis abaixo dela:\n",
        "\n",
        "#Nome: maior que 3 caracteres;\n",
        "#Idade: entre 0 e 150;\n",
        "#Salário: maior que zero;\n",
        "#Sexo: 'f' ou 'm';\n",
        "#Estado Civil: 's', 'c', 'v', 'd';\n",
        "contador = 0\n",
        "while contador < 5:\n",
        "    while True:\n",
        "        nome = str(input('Digite seu nome: '))\n",
        "        totnome = len(nome)\n",
        "        if totnome < 3:\n",
        "            print(\"O nome não pode conter menos de 3 caracteres. Digite novamente\")\n",
        "        else:\n",
        "            contador += 1\n",
        "            break\n",
        "    \n",
        "    while True:\n",
        "        idade = int(input('Digite sua idade: '))\n",
        "        if idade > 0 and idade <= 150:\n",
        "            contador += 1\n",
        "            break\n",
        "        else:\n",
        "            print('A idade está fora dos padrões. Digite novamente: ')\n",
        "   \n",
        "    while True:\n",
        "        salario = float(input('Digite seu salário R$ '))\n",
        "        if salario > 0:\n",
        "            contador += 1\n",
        "            break\n",
        "        else:\n",
        "            print('Digite um valor acima de 0. ')\n",
        "    \n",
        "    \n",
        "    while True:\n",
        "        sexo = str(input('Digite seu sexo [F/M]: ')).upper().strip()[0]\n",
        "        if sexo not in 'FM':\n",
        "            print(\"Digite a Sigla [F/M] novamente \")\n",
        "        else:\n",
        "            contador += 1\n",
        "            break\n",
        "    \n",
        "     \n",
        "    while True:\n",
        "        civil = str(input('Digite seu estado Civil [S/C/D/V]')).upper().strip()[0] \n",
        "        if civil == 'S' or civil =='C' or civil =='D' or civil =='V':\n",
        "            contador+= 1\n",
        "            break\n",
        "        else:\n",
        "            print('Opção invalida, tente novamente.')\n",
        "\n",
        "\n",
        "print(f' Você se chama {nome}, tem {idade} anos, é do sexo {sexo}, salario é R$ {salario:.2f} e estado civil é {civil}')\n",
        "\n",
        "           \n",
        "    \n",
        "\n",
        "\n"
      ],
      "execution_count": null,
      "outputs": [
        {
          "output_type": "stream",
          "text": [
            "Digite seu nome: an\n",
            "O nome não pode conter menos de 3 caracteres. Digite novamente\n",
            "Digite seu nome: Ana\n",
            "Digite sua idade: 151\n",
            "A idade está fora dos padrões. Digite novamente: \n",
            "Digite sua idade: 150\n",
            "Digite seu salário R$ -100\n",
            "Digite um valor acima de 0. \n",
            "Digite seu salário R$ 1000\n",
            "Digite seu sexo [F/M]: v\n",
            "Digite a Sigla [F/M] novamente \n",
            "Digite seu sexo [F/M]: f\n",
            "Digite seu estado Civil [S/C/D/V]m\n",
            "Opção invalida, tente novamente.\n",
            "Digite seu estado Civil [S/C/D/V]s\n",
            " Você se chama Ana, tem 150 anos, é do sexo F, salario é R$ 1000.00 e estado civil é S\n"
          ],
          "name": "stdout"
        }
      ]
    },
    {
      "cell_type": "code",
      "metadata": {
        "id": "OXSVZAMqFdNd",
        "outputId": "762eb4ab-edc7-46af-e689-1b3ca6931771"
      },
      "source": [
        "# 6 - Segundo os dados de crescimento de dois paises temos:\n",
        "# Pais A tem 80.000 habitantes e uma taxa de crecimento anual de 3%\n",
        "# Pais B tem 200.000 habitantes e uma taxa de crecimento anual de 1.5%.\n",
        "#Faça um programa que calcule e escreva o número de anos necessários para que a população do país A ultrapasse ou iguale a população do país B, mantidas as taxas de crescimento.\n",
        " \n",
        "paisA = 80000\n",
        "paisB = 200000\n",
        "anos = 0\n",
        "\n",
        "while paisA <= paisB:\n",
        "    paisA += paisA * 0.03\n",
        "    paisB += paisB * 0.015\n",
        "    anos += 1\n",
        "    \n",
        "print(f'O Pais A ultrapassará o pais B em {anos} anos')\n"
      ],
      "execution_count": null,
      "outputs": [
        {
          "output_type": "stream",
          "text": [
            "O Pais A ultrapassará o pais B em 63 anos\n"
          ],
          "name": "stdout"
        }
      ]
    },
    {
      "cell_type": "code",
      "metadata": {
        "id": "5ZOUZQxrFdNf",
        "outputId": "3e4ae860-98b5-45ca-e728-efc21bb4611d"
      },
      "source": [
        "# 7 - Gerador de tabuada: \n",
        "# Desenvolva um gerador de tabuada, capaz de gerar a tabuada de qualquer número inteiro entre 1 a 10.\n",
        "#O usuário deve informar de qual número ele deseja ver a tabuada. A saída deve ser conforme o exemplo abaixo:\n",
        "#Tabuada de 5:\n",
        "#5 X 1 = 5\n",
        "#5 X 2 = 10\n",
        "#...\n",
        "#5 X 10 = 50\n",
        "total = 0\n",
        "n = int(input('Digite um numero para tabuada: '))\n",
        "cont = 0\n",
        "while cont <= 9:\n",
        "    cont += 1\n",
        "    total = n * cont\n",
        "      \n",
        "    print(f'{n} x {cont} = {total}')"
      ],
      "execution_count": null,
      "outputs": [
        {
          "output_type": "stream",
          "text": [
            "Digite um numero para tabuada: 1\n",
            "1 x 1 = 1\n",
            "1 x 2 = 2\n",
            "1 x 3 = 3\n",
            "1 x 4 = 4\n",
            "1 x 5 = 5\n",
            "1 x 6 = 6\n",
            "1 x 7 = 7\n",
            "1 x 8 = 8\n",
            "1 x 9 = 9\n",
            "1 x 10 = 10\n"
          ],
          "name": "stdout"
        }
      ]
    },
    {
      "cell_type": "code",
      "metadata": {
        "id": "OIzmueEKFdNh",
        "outputId": "8ab925e1-673a-4e1b-bba5-316277ce54f8"
      },
      "source": [
        "# 8 - Faça um programa que peça dois números, base e expoente, calcule e mostre o primeiro número elevado ao segundo número. \n",
        "# Não utilize a função de potência pow() e também o operador **, desenvolva esse exercicio usando estrutura de repetição.\n",
        "\n",
        "base = int(input('Digite o valor da base: '))\n",
        "expoente = int(input('Digite o valor do expoente: '))\n",
        "contador = 1\n",
        "total = 1\n",
        "while contador <= expoente:\n",
        "    total *= base\n",
        "    contador += 1\n",
        "\n",
        "print(f'O valor {base} levado ao expoente {expoente} tem o resultado {total}')\n"
      ],
      "execution_count": null,
      "outputs": [
        {
          "output_type": "stream",
          "text": [
            "Digite o valor da base: 2\n",
            "Digite o valor do expoente: 3\n",
            "O valor 2 levado ao expoente 3 tem o resultado 8\n"
          ],
          "name": "stdout"
        }
      ]
    },
    {
      "cell_type": "code",
      "metadata": {
        "id": "4Xzr6fBKFdNj",
        "outputId": "785cc736-27d4-4213-94d4-9fe3aa2d67f7"
      },
      "source": [
        "# 9 - A série de Fibonacci é formada pela seqüência 1,1,2,3,5,8,13,21,34,55,... \n",
        "#Faça um programa capaz de gerar a série até encontrar o primeiro número maior do que o infomado pelo usuário.\n",
        "\n",
        "num = int(input('Quantos termos quer mostrar?: '))\n",
        "termo1 = 0\n",
        "termo2 = 1\n",
        "contador = 1\n",
        "while contador <= num:\n",
        "    termo3 = termo1 + termo2\n",
        "    print(f' {termo3}', end = ' ')\n",
        "    termo1 = termo2\n",
        "    termo2 = termo3\n",
        "    contador += 1\n",
        "    "
      ],
      "execution_count": null,
      "outputs": [
        {
          "output_type": "stream",
          "text": [
            "Quantos termos quer mostrar?: 15\n",
            " 1  2  3  5  8  13  21  34  55  89  144  233  377  610  987 "
          ],
          "name": "stdout"
        }
      ]
    },
    {
      "cell_type": "code",
      "metadata": {
        "id": "a69eUXpTFdNm",
        "outputId": "26f2a764-5e4e-415e-8974-f5e4aab458ea"
      },
      "source": [
        "# 10 - Faça um programa que calcule o fatorial de um número inteiro fornecido pelo usuário. \n",
        "#Ex.: 5!=5.4.3.2.1=120\n",
        "\n",
        "fatorial = 1       #multiplicação entre os numeros resultando no fatorial\n",
        "num = int(input('Digite um numero: '))\n",
        "cont = num        #De qual numero vai iniciar o contador até chegar no 1 para fatoriar\n",
        "while cont > 0:      #Do numero digitado até seu mínimo que é 1\n",
        "    print(f'{cont} ', end=' ')\n",
        "    print(' x ' if cont > 1 else ' = ' , end= ' ')\n",
        "    fatorial *= cont\n",
        "    cont -= 1          #A cada rodada o contador diminuir um numero\n",
        "print(f'{fatorial}')\n"
      ],
      "execution_count": null,
      "outputs": [
        {
          "output_type": "stream",
          "text": [
            "Digite um numero: 5\n",
            "5   x  4   x  3   x  2   x  1   =  120\n"
          ],
          "name": "stdout"
        }
      ]
    },
    {
      "cell_type": "code",
      "metadata": {
        "id": "Hs-XUi42FdNo",
        "outputId": "9464b9dc-6599-4d8f-d544-e39b3a941adc"
      },
      "source": [
        "# 11 - Faça um programa que peça as 4 notas bimestrais(entre 0 e dez) e mostre a média. Verifique se a média for maior ou\n",
        "#igual a 6 e imprima a mensagem 'Aprovado' ou 'Reprovado'.\n",
        "\n",
        "media = soma = contador = 0\n",
        "while True:\n",
        "    notas = float(input(\"Digite a nota \"))\n",
        "    soma += notas\n",
        "    contador += 1\n",
        "    if contador == 4:\n",
        "        break\n",
        "        \n",
        "media = soma / contador\n",
        "if media >= 6:\n",
        "    print(f'Aprovado com media total de {media} pontos')\n",
        "else:\n",
        "    print(f'Reprovado com media total de {media} pontos, Estude mais!')\n"
      ],
      "execution_count": null,
      "outputs": [
        {
          "output_type": "stream",
          "text": [
            "Digite a nota 5\n",
            "Digite a nota 6\n",
            "Digite a nota 7\n",
            "Digite a nota 8\n",
            "Aprovado com media total de 6.5 pontos\n"
          ],
          "name": "stdout"
        }
      ]
    },
    {
      "cell_type": "code",
      "metadata": {
        "id": "TBO7yHoLFdNr",
        "outputId": "093e9d03-5b78-42ae-fad3-8c96a77329cc"
      },
      "source": [
        "# 12 - Faça um programa que peça um número inteiro e determine se ele é ou não um número primo, se não for número primo informe,\n",
        "# por quais número ele é divisível.\n",
        "\n",
        "divisores=[]\n",
        "num = int(input('Digite um numero: '))\n",
        "contador = 0\n",
        "inicio = 1\n",
        "while inicio <= num:\n",
        "    if num % inicio == 0:\n",
        "        divisores.append(inicio)\n",
        "        contador += 1\n",
        "    inicio += 1\n",
        "if contador == 2:\n",
        "    print(f'O numero {num} é um numero primo pois foi divisível apenas por {divisores}.')\n",
        "else:\n",
        "    print(f'O numero {num} não é um numero primo e foi divisível por {divisores}')\n"
      ],
      "execution_count": null,
      "outputs": [
        {
          "output_type": "stream",
          "text": [
            "Digite um numero: 5\n",
            "O numero 5 é um numero primo pois foi divisível apenas por [1, 5].\n"
          ],
          "name": "stdout"
        }
      ]
    },
    {
      "cell_type": "code",
      "metadata": {
        "id": "MncEb-gAFdNt",
        "outputId": "a1bdad9e-a047-40e2-a401-f934d1231670"
      },
      "source": [
        "78\n",
        "# 13 - Faça um programa que implemente uma caixa registradora rudimentar. \n",
        "# O programa deverá receber a descrição do produto, o valor unitário do produto e a quantidade de itens e calcular o valor.\n",
        "# Ao concluir a iteração o programa deve retornar a soma total de todos os produtos adicionados. Ex.\n",
        "\n",
        "#==========================================\n",
        "#Produto: Maça\n",
        "#Valor Unitário: 5.5\n",
        "#Quantidade: 2\n",
        "#Valor: 11\n",
        "#=========================================\n",
        "#Produto: Leite\n",
        "#Valor Unitário: 10\n",
        "#Quantidade: 5\n",
        "#Valor: 50\n",
        "#=========================================\n",
        "#Produto: Carne\n",
        "#Valor Unitário: 48\n",
        "#Quantidade: 1\n",
        "#Valor: 48\n",
        "#=========================================\n",
        "\n",
        "# Total 110\n",
        "\n",
        "resp = ''\n",
        "total = 0\n",
        "while True:\n",
        "    produto = str(input('Produto: '))\n",
        "    preço = float(input('Valor Unitário: '))\n",
        "    quantidade = int(input('Quantidade: '))\n",
        "    total += preço * quantidade\n",
        "    \n",
        "    resp= str(input('Quer continuar? [S/N]: ')).strip().upper()[0]\n",
        "    if resp == \"S\":\n",
        "        continue\n",
        "    else:\n",
        "        break\n",
        "    \n",
        "print(f'O total da compra foi R$ {total:.2f}')"
      ],
      "execution_count": null,
      "outputs": [
        {
          "output_type": "stream",
          "text": [
            "Produto: sapato\n",
            "Valor Unitário: 100\n",
            "Quantidade: 2\n",
            "Quer continuar? [S/N]: s\n",
            "Produto: meia\n",
            "Valor Unitário: 20\n",
            "Quantidade: 4\n",
            "Quer continuar? [S/N]: s\n",
            "Produto: camiseta\n",
            "Valor Unitário: 50\n",
            "Quantidade: 2\n",
            "Quer continuar? [S/N]: n\n",
            "O total da compra foi R$ 380.00\n"
          ],
          "name": "stdout"
        }
      ]
    },
    {
      "cell_type": "code",
      "metadata": {
        "id": "zr_5oaBQFdNv",
        "outputId": "049c9f8b-fced-4924-832a-29d516de0557"
      },
      "source": [
        "# 14 - O Departamento Estadual de Meteorologia lhe contratou para desenvolver um programa que leia as um conjunto\n",
        "# indeterminado de temperaturas, e informe ao final a menor e a maior temperaturas informadas, \n",
        "# bem como a média das temperaturas.\n",
        "continuar = ' '\n",
        "tempMenor = tempMaior = soma = contador= media = 0\n",
        "while continuar != 'N':\n",
        "    temperatura = float(input('Qual a temperatura atual: '))\n",
        "    soma += temperatura\n",
        "    contador += 1\n",
        "    if temperatura > tempMaior:\n",
        "        tempMaior = temperatura\n",
        "    else:\n",
        "        tempMenor = temperatura\n",
        "        temperatura < tempMenor\n",
        "        tempMenor = temperatura\n",
        "    continuar = str(input('Quer continuar? [S/N]: ')).upper().strip()[0]\n",
        "media = soma / contador\n",
        "\n",
        "print(f'A maior temperatura foi {tempMaior}graus')\n",
        "print(f'A menor temperatura foi {tempMenor} graus')\n",
        "print(f'A média das temperaturas foi de {media} graus')"
      ],
      "execution_count": null,
      "outputs": [
        {
          "output_type": "stream",
          "text": [
            "Qual a temperatura atual: 34\n",
            "Quer continuar? [S/N]: s\n",
            "Qual a temperatura atual: 32.5\n",
            "Quer continuar? [S/N]: s\n",
            "Qual a temperatura atual: 30.8\n",
            "Quer continuar? [S/N]: s\n",
            "Qual a temperatura atual: 36.5\n",
            "Quer continuar? [S/N]: n\n",
            "A maior temperatura foi 36.5graus\n",
            "A menor temperatura foi 30.8 graus\n",
            "A média das temperaturas foi de 33.45 graus\n"
          ],
          "name": "stdout"
        }
      ]
    },
    {
      "cell_type": "code",
      "metadata": {
        "id": "Acaxmg4hFdNx"
      },
      "source": [
        ""
      ],
      "execution_count": null,
      "outputs": []
    }
  ]
}