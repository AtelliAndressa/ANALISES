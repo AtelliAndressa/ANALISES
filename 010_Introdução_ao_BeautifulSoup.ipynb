{
  "cells": [
    {
      "cell_type": "markdown",
      "metadata": {
        "id": "view-in-github",
        "colab_type": "text"
      },
      "source": [
        "<a href=\"https://colab.research.google.com/github/AtelliAndressa/ANALISES/blob/main/010_Introduc%CC%A7a%CC%83o_ao_BeautifulSoup.ipynb\" target=\"_parent\"><img src=\"https://colab.research.google.com/assets/colab-badge.svg\" alt=\"Open In Colab\"/></a>"
      ]
    },
    {
      "cell_type": "markdown",
      "metadata": {
        "id": "trzHlyAQ0R30"
      },
      "source": [
        "___\n",
        "# Capítulo 8 - Coletando dados na internet com BeautifulSoup\n",
        "\n",
        "## Seção 1 - Introdução ao BeautifulSoup e a raspagem de dados\n",
        "___"
      ]
    },
    {
      "cell_type": "code",
      "execution_count": null,
      "metadata": {
        "collapsed": true,
        "id": "Pe2qSYXp0R33"
      },
      "outputs": [],
      "source": [
        "from bs4 import BeautifulSoup"
      ]
    },
    {
      "cell_type": "markdown",
      "metadata": {
        "id": "ljZ2mmKd0R35"
      },
      "source": [
        "### O objeto BeautifulSoup"
      ]
    },
    {
      "cell_type": "code",
      "execution_count": null,
      "metadata": {
        "collapsed": true,
        "id": "8SCWHR-F0R35"
      },
      "outputs": [],
      "source": [
        "doc_html = '''\n",
        "<html><head><title>Pizza de Dados</title></head>\n",
        "<body>\n",
        "<section id=\"about\">\n",
        "         <div class=\"user-details\">\n",
        "  <p class='title'> Sobre o Pizza de Dados </p>\n",
        "  <p> O Pizza de Dados é uma iniciativa de 3 apaixonados por ciência de dados que viviam discutindo assuntos, links e conselhos de carreira. A vontade de aprender mais e compartilhar conhecimento era comum a todos e a ausência de um canal em português para tratar desses temas, levou à ideia de formar o pizza de dados.</p>\n",
        "\n",
        "  <p> O nome é uma espécie de “homenagem” ao repositório datascience.pizza, que se tornou em pouco tempo uma referência de material de estudos de ciência de dados em português.</p>\n",
        "\n",
        "  <p> Por ser algo feito de forma simples e leve por pessoas que normalmente se enfiam em muitos projetos ao mesmo tempo, o Pizza de Dados tem 3 regras básicas:</p>\n",
        "\n",
        "<ol>\n",
        "    <li>Só vamos fazer isso enquanto estiver divertido para todos;</li>\n",
        "    <li>Não vamos fazer por pressão (de datas, de publicação, de frequência…);</li>\n",
        "    <li>Nem todos os pizzaiolos originais devem estar em um episódio.</li>\n",
        "</ol>\n",
        "\n",
        "  <p> Esperamos que você se divirta, nos dê feedback e aprenda um pouquinho! </p>\n",
        "</div>\n",
        "\n",
        "      </section>\n",
        "    <div class=\"header-links\">\n",
        "        <a class=\"link\" href=\"#about\" data-scroll=\"\">Sobre</a>\n",
        "        <a class=\"link\" href=\"#pizzaiolos\" data-scroll=\"\">Quem somos</a>\n",
        "        <a class=\"link\" target=\"_blank\" href=\"https://medium.com/pizzadedados\">Revista</a>\n",
        "        <a class=\"link\" target=\"_blank\" href=\"https://podcast.pizzadedados.com/\">Episódios</a>\n",
        "        <a class=\"link\" href=\"#vemcomagente\" data-scroll=\"\">Assine</a>\n",
        "        <a class=\"link\" href=\"#vemcomagente\" data-scroll=\"\">Apoie</a>\n",
        "      </div>\n",
        "'''"
      ]
    },
    {
      "cell_type": "code",
      "execution_count": null,
      "metadata": {
        "collapsed": true,
        "id": "x_5HcA820R36",
        "outputId": "6bcb72ee-9f1b-46f8-c56f-7dd6287c2930"
      },
      "outputs": [
        {
          "name": "stdout",
          "output_type": "stream",
          "text": [
            "\n",
            "<html><head><title>Pizza de Dados</title></head>\n",
            "<body>\n",
            "<section id=\"about\">\n",
            "<div class=\"user-details\">\n",
            "<p class=\"title\"> Sobre o Pizza de Dados </p>\n",
            "<p> O Pizza de Dados é uma iniciativa de 3 apaixonados por ciência de dados que viviam discutindo assuntos, links e conselhos de carreira. A vontade de aprender mais e compartilhar conhecimento era comum a todos e a ausência de um canal em português para tratar desses temas, levou à ideia de formar o pizza de dados.</p>\n",
            "<p> O nome é uma espécie de “homenagem” ao repositório datascience.pizza, que se tornou em pouco tempo uma referência de material de estudos de ciência de dados em português.</p>\n",
            "<p> Por ser algo feito de forma simples e leve por pessoas que normalmente se enfiam em muitos projetos ao mesmo tempo, o Pizza de Dados tem 3 regras básicas:</p>\n",
            "<ol>\n",
            "<li>Só vamos fazer isso enquanto estiver divertido para todos;</li>\n",
            "<li>Não vamos fazer por pressão (de datas, de publicação, de frequência…);</li>\n",
            "<li>Nem todos os pizzaiolos originais devem estar em um episódio.</li>\n",
            "</ol>\n",
            "<p> Esperamos que você se divirta, nos dê feedback e aprenda um pouquinho! </p>\n",
            "</div>\n",
            "</section>\n",
            "<div class=\"header-links\">\n",
            "<a class=\"link\" data-scroll=\"\" href=\"#about\">Sobre</a>\n",
            "<a class=\"link\" data-scroll=\"\" href=\"#pizzaiolos\">Quem somos</a>\n",
            "<a class=\"link\" href=\"https://medium.com/pizzadedados\" target=\"_blank\">Revista</a>\n",
            "<a class=\"link\" href=\"https://podcast.pizzadedados.com/\" target=\"_blank\">Episódios</a>\n",
            "<a class=\"link\" data-scroll=\"\" href=\"#vemcomagente\">Assine</a>\n",
            "<a class=\"link\" data-scroll=\"\" href=\"#vemcomagente\">Apoie</a>\n",
            "</div>\n",
            "</body></html>\n"
          ]
        }
      ],
      "source": [
        "sopa = BeautifulSoup(doc_html, 'html.parser')\n",
        "print(sopa)"
      ]
    },
    {
      "cell_type": "code",
      "execution_count": null,
      "metadata": {
        "collapsed": true,
        "id": "kEVy8cmt0R37",
        "outputId": "fb5607c7-e687-493f-c2fc-59cff0ef0106"
      },
      "outputs": [
        {
          "name": "stdout",
          "output_type": "stream",
          "text": [
            "<html>\n",
            " <head>\n",
            "  <title>\n",
            "   Pizza de Dados\n",
            "  </title>\n",
            " </head>\n",
            " <body>\n",
            "  <section id=\"about\">\n",
            "   <div class=\"user-details\">\n",
            "    <p class=\"title\">\n",
            "     Sobre o Pizza de Dados\n",
            "    </p>\n",
            "    <p>\n",
            "     O Pizza de Dados é uma iniciativa de 3 apaixonados por ciência de dados que viviam discutindo assuntos, links e conselhos de carreira. A vontade de aprend\n"
          ]
        }
      ],
      "source": [
        "print(sopa.prettify()[0:350])"
      ]
    },
    {
      "cell_type": "markdown",
      "metadata": {
        "id": "D_hElqLq0R38"
      },
      "source": [
        "### Objetos Tag\n"
      ]
    },
    {
      "cell_type": "markdown",
      "metadata": {
        "id": "gBPoIhVC0R39"
      },
      "source": [
        "#### Trabalhando com nomes"
      ]
    },
    {
      "cell_type": "code",
      "execution_count": null,
      "metadata": {
        "id": "lvtSlhvJ0R39",
        "outputId": "5810e56a-462f-42e1-9b9f-94feb4d35cf2"
      },
      "outputs": [
        {
          "data": {
            "text/plain": [
              "bs4.element.Tag"
            ]
          },
          "execution_count": 5,
          "metadata": {},
          "output_type": "execute_result"
        }
      ],
      "source": [
        "sopa = BeautifulSoup('<b body=\"description\">O primeiro e o mais querido podcast sobre ciência de dados no Brasil</b>',\n",
        "                     'html.parser')\n",
        "\n",
        "tag = sopa.b\n",
        "type(tag)"
      ]
    },
    {
      "cell_type": "code",
      "execution_count": null,
      "metadata": {
        "id": "O7shNqD00R3-",
        "outputId": "117e6fcf-54ee-4af4-b65f-29dd56a08402"
      },
      "outputs": [
        {
          "name": "stdout",
          "output_type": "stream",
          "text": [
            "<b body=\"description\">O primeiro e o mais querido podcast sobre ciência de dados no Brasil</b>\n"
          ]
        }
      ],
      "source": [
        "print(tag)"
      ]
    },
    {
      "cell_type": "code",
      "execution_count": null,
      "metadata": {
        "id": "eBibYkMf0R3_",
        "outputId": "71a08b33-e2fb-43fe-a008-49582c76b5d2"
      },
      "outputs": [
        {
          "data": {
            "text/plain": [
              "'b'"
            ]
          },
          "execution_count": 7,
          "metadata": {},
          "output_type": "execute_result"
        }
      ],
      "source": [
        "tag.name"
      ]
    },
    {
      "cell_type": "code",
      "execution_count": null,
      "metadata": {
        "id": "7xLX_BY50R3_",
        "outputId": "8fa97b1c-5de6-4f32-bd73-e7668d98a104"
      },
      "outputs": [
        {
          "data": {
            "text/plain": [
              "<podcast body=\"description\">O primeiro e o mais querido podcast sobre ciência de dados no Brasil</podcast>"
            ]
          },
          "execution_count": 8,
          "metadata": {},
          "output_type": "execute_result"
        }
      ],
      "source": [
        "tag.name = 'podcast'\n",
        "tag"
      ]
    },
    {
      "cell_type": "code",
      "execution_count": null,
      "metadata": {
        "id": "u-tYXClZ0R4A",
        "outputId": "a9963e1f-d62f-4f95-bfaa-e7a7cf82c7de"
      },
      "outputs": [
        {
          "data": {
            "text/plain": [
              "'podcast'"
            ]
          },
          "execution_count": 9,
          "metadata": {},
          "output_type": "execute_result"
        }
      ],
      "source": [
        "tag.name"
      ]
    },
    {
      "cell_type": "markdown",
      "metadata": {
        "id": "uaZcODu80R4B"
      },
      "source": [
        "#### Trabalhando com atributos"
      ]
    },
    {
      "cell_type": "code",
      "execution_count": null,
      "metadata": {
        "id": "B7T8yYUF0R4B",
        "outputId": "51cd855e-0d2c-4d25-8f3a-f1e212d62850"
      },
      "outputs": [
        {
          "data": {
            "text/plain": [
              "'description'"
            ]
          },
          "execution_count": 10,
          "metadata": {},
          "output_type": "execute_result"
        }
      ],
      "source": [
        "tag['body']"
      ]
    },
    {
      "cell_type": "code",
      "execution_count": null,
      "metadata": {
        "id": "eui6nC-60R4C",
        "outputId": "7d6cda1d-bb70-4878-8c91-35e71039ba34"
      },
      "outputs": [
        {
          "data": {
            "text/plain": [
              "{'body': 'description'}"
            ]
          },
          "execution_count": 11,
          "metadata": {},
          "output_type": "execute_result"
        }
      ],
      "source": [
        "tag.attrs"
      ]
    },
    {
      "cell_type": "code",
      "execution_count": null,
      "metadata": {
        "id": "QLi-GHdj0R4C",
        "outputId": "41115c68-f969-42a0-b83e-a6d0fa9d0281"
      },
      "outputs": [
        {
          "data": {
            "text/plain": [
              "{'body': 'description', 'id': 3}"
            ]
          },
          "execution_count": 12,
          "metadata": {},
          "output_type": "execute_result"
        }
      ],
      "source": [
        "tag['id'] = 3\n",
        "tag.attrs"
      ]
    },
    {
      "cell_type": "code",
      "execution_count": null,
      "metadata": {
        "id": "iKzZA0dJ0R4C",
        "outputId": "63851149-79ae-43db-c3e9-7b7539b0fadb"
      },
      "outputs": [
        {
          "data": {
            "text/plain": [
              "<podcast body=\"description\" id=\"3\">O primeiro e o mais querido podcast sobre ciência de dados no Brasil</podcast>"
            ]
          },
          "execution_count": 13,
          "metadata": {},
          "output_type": "execute_result"
        }
      ],
      "source": [
        "tag"
      ]
    },
    {
      "cell_type": "code",
      "execution_count": null,
      "metadata": {
        "id": "fpdu2U6X0R4D",
        "outputId": "c6be3867-0386-4fed-b828-5bd9caaa16c4"
      },
      "outputs": [
        {
          "data": {
            "text/plain": [
              "<podcast id=\"3\">O primeiro e o mais querido podcast sobre ciência de dados no Brasil</podcast>"
            ]
          },
          "execution_count": 14,
          "metadata": {},
          "output_type": "execute_result"
        }
      ],
      "source": [
        "del tag['body']\n",
        "tag"
      ]
    },
    {
      "cell_type": "code",
      "execution_count": null,
      "metadata": {
        "id": "aLNwFdJ40R4D",
        "outputId": "bbe0e8ba-fc6e-48fb-a619-7f097ed08fc3"
      },
      "outputs": [
        {
          "data": {
            "text/plain": [
              "{'id': 3}"
            ]
          },
          "execution_count": 15,
          "metadata": {},
          "output_type": "execute_result"
        }
      ],
      "source": [
        "tag.attrs"
      ]
    },
    {
      "cell_type": "markdown",
      "metadata": {
        "id": "Cc1aRkD80R4E"
      },
      "source": [
        "#### Usando tags"
      ]
    },
    {
      "cell_type": "code",
      "execution_count": null,
      "metadata": {
        "id": "2lrLdr8U0R4E",
        "outputId": "d91fc7fe-2e44-44a3-a7b4-a9f4653888d7"
      },
      "outputs": [
        {
          "data": {
            "text/plain": [
              "<head><title>Pizza de Dados</title></head>"
            ]
          },
          "execution_count": 16,
          "metadata": {},
          "output_type": "execute_result"
        }
      ],
      "source": [
        "sopa = BeautifulSoup(doc_html, 'html.parser')\n",
        "sopa.head"
      ]
    },
    {
      "cell_type": "code",
      "execution_count": null,
      "metadata": {
        "id": "wBcyWkTJ0R4E",
        "outputId": "04a52ae1-56c9-4cd0-a93a-22f05af284dd"
      },
      "outputs": [
        {
          "data": {
            "text/plain": [
              "<title>Pizza de Dados</title>"
            ]
          },
          "execution_count": 17,
          "metadata": {},
          "output_type": "execute_result"
        }
      ],
      "source": [
        "sopa.title"
      ]
    },
    {
      "cell_type": "code",
      "execution_count": null,
      "metadata": {
        "id": "WTR11w1C0R4E",
        "outputId": "39f66e00-114f-435b-8b97-326e546aae5c"
      },
      "outputs": [
        {
          "data": {
            "text/plain": [
              "<body>\n",
              "<section id=\"about\">\n",
              "<div class=\"user-details\">\n",
              "<p class=\"title\"> Sobre o Pizza de Dados </p>\n",
              "<p> O Pizza de Dados é uma iniciativa de 3 apaixonados por ciência de dados que viviam discutindo assuntos, links e conselhos de carreira. A vontade de aprender mais e compartilhar conhecimento era comum a todos e a ausência de um canal em português para tratar desses temas, levou à ideia de formar o pizza de dados.</p>\n",
              "<p> O nome é uma espécie de “homenagem” ao repositório datascience.pizza, que se tornou em pouco tempo uma referência de material de estudos de ciência de dados em português.</p>\n",
              "<p> Por ser algo feito de forma simples e leve por pessoas que normalmente se enfiam em muitos projetos ao mesmo tempo, o Pizza de Dados tem 3 regras básicas:</p>\n",
              "<ol>\n",
              "<li>Só vamos fazer isso enquanto estiver divertido para todos;</li>\n",
              "<li>Não vamos fazer por pressão (de datas, de publicação, de frequência…);</li>\n",
              "<li>Nem todos os pizzaiolos originais devem estar em um episódio.</li>\n",
              "</ol>\n",
              "<p> Esperamos que você se divirta, nos dê feedback e aprenda um pouquinho! </p>\n",
              "</div>\n",
              "</section>\n",
              "<div class=\"header-links\">\n",
              "<a class=\"link\" data-scroll=\"\" href=\"#about\">Sobre</a>\n",
              "<a class=\"link\" data-scroll=\"\" href=\"#pizzaiolos\">Quem somos</a>\n",
              "<a class=\"link\" href=\"https://medium.com/pizzadedados\" target=\"_blank\">Revista</a>\n",
              "<a class=\"link\" href=\"https://podcast.pizzadedados.com/\" target=\"_blank\">Episódios</a>\n",
              "<a class=\"link\" data-scroll=\"\" href=\"#vemcomagente\">Assine</a>\n",
              "<a class=\"link\" data-scroll=\"\" href=\"#vemcomagente\">Apoie</a>\n",
              "</div>\n",
              "</body>"
            ]
          },
          "execution_count": 18,
          "metadata": {},
          "output_type": "execute_result"
        }
      ],
      "source": [
        "sopa.body"
      ]
    }
  ],
  "metadata": {
    "anaconda-cloud": {},
    "kernelspec": {
      "display_name": "Python 3",
      "language": "python",
      "name": "python3"
    },
    "language_info": {
      "codemirror_mode": {
        "name": "ipython",
        "version": 3
      },
      "file_extension": ".py",
      "mimetype": "text/x-python",
      "name": "python",
      "nbconvert_exporter": "python",
      "pygments_lexer": "ipython3",
      "version": "3.6.2"
    },
    "colab": {
      "name": "01_Introdução_ao_BeautifulSoup.ipynb",
      "provenance": [],
      "include_colab_link": true
    }
  },
  "nbformat": 4,
  "nbformat_minor": 0
}