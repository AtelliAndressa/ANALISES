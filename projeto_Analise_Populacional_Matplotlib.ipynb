{
  "nbformat": 4,
  "nbformat_minor": 0,
  "metadata": {
    "colab": {
      "name": "Untitled1.ipynb",
      "provenance": [],
      "collapsed_sections": []
    },
    "kernelspec": {
      "name": "python3",
      "display_name": "Python 3"
    }
  },
  "cells": [
    {
      "cell_type": "markdown",
      "metadata": {
        "id": "0gnnp3Lq5KKG"
      },
      "source": [
        "PROJETO ANÁLISE POPULACIONAL\r\n",
        "Autor: Andressa Atelli\r\n"
      ]
    },
    {
      "cell_type": "code",
      "metadata": {
        "id": "lnZUhWDJoRyD"
      },
      "source": [
        "# Crescimento da população Brasileira até 2020\r\n",
        "# Base de pesquisa extraída do site IBGE no dia 08/12/2020"
      ],
      "execution_count": null,
      "outputs": []
    },
    {
      "cell_type": "code",
      "metadata": {
        "id": "n8s5ciVgrHQu"
      },
      "source": [
        "import matplotlib.pyplot as plt     "
      ],
      "execution_count": 3,
      "outputs": []
    },
    {
      "cell_type": "code",
      "metadata": {
        "colab": {
          "base_uri": "https://localhost:8080/",
          "height": 312
        },
        "id": "hvjAVVgHpbeh",
        "outputId": "0ebd5610-63a7-4578-deb2-590ccab4fc88"
      },
      "source": [
        "dados = open(\"populacao_brasileira.csv\").readlines()   #leitura linha a linha\r\n",
        "\r\n",
        "x = []   #irá armazenar o ano\r\n",
        "y = []   #irá armazenar a população naquele determinado ano.\r\n",
        "eixoX = \"Ano\"\r\n",
        "eixoY = \"População * 100.000.000\"\r\n",
        "titulo = \"Crescimento Populacional de 1980-2016\"\r\n",
        "\r\n",
        "for elemento in range(len(dados)):   #lerá cada elemento de todas as linhas dentro de dados\r\n",
        "  if elemento != 0:  #se o elemento for diferente de 0\r\n",
        "    linha = dados[elemento].split(\";\")   #pega cada elemento e separa as colunas\r\n",
        "    x.append(int(linha[0]))  #posição 0 traz a coluna ano convertendo para numeros inteiros\r\n",
        "    y.append(int(linha[1]))   #posição 1 traz a coluna população convertendo para numeros inteiros\r\n",
        "\r\n",
        "plt.xlabel(eixoX) #cria a rotulagem deste eixo\r\n",
        "plt.ylabel(eixoY)   #cria a rotulagem deste eixo\r\n",
        "plt.title(titulo)   #cria o titulo principal\r\n",
        "\r\n",
        "plt.bar(x,y, color=\"y\")    #constroi o gráfico de barras\r\n",
        "plt.plot(x,y, color=\"b\")   #constroi o gráfico de linhas\r\n",
        "plt.show()                 #mostra os gráficos criados"
      ],
      "execution_count": 33,
      "outputs": [
        {
          "output_type": "display_data",
          "data": {
            "image/png": "[encoded data removed]",
            "text/plain": [
              "<Figure size 432x288 with 1 Axes>"
            ]
          },
          "metadata": {
            "tags": [],
            "needs_background": "light"
          }
        },
        {
          "output_type": "display_data",
          "data": {
            "text/plain": [
              "<Figure size 432x288 with 0 Axes>"
            ]
          },
          "metadata": {
            "tags": []
          }
        }
      ]
    }
  ]
}