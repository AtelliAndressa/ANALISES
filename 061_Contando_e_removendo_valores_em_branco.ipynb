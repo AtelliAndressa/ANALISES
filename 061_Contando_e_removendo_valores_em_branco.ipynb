{
  "cells": [
    {
      "cell_type": "markdown",
      "metadata": {
        "id": "view-in-github",
        "colab_type": "text"
      },
      "source": [
        "<a href=\"https://colab.research.google.com/github/AtelliAndressa/ANALISES/blob/main/061_Contando_e_removendo_valores_em_branco.ipynb\" target=\"_parent\"><img src=\"https://colab.research.google.com/assets/colab-badge.svg\" alt=\"Open In Colab\"/></a>"
      ]
    },
    {
      "cell_type": "markdown",
      "metadata": {
        "id": "xP3U22s02vdf"
      },
      "source": [
        "___\n",
        "# Capítulo 1 - Manipulação de dados: Básico\n",
        "## Seção 6 - Contando e removendo valores em branco\n",
        "___"
      ]
    },
    {
      "cell_type": "code",
      "execution_count": null,
      "metadata": {
        "collapsed": true,
        "id": "UO9-zUNY2vdi"
      },
      "outputs": [],
      "source": [
        "import numpy as np\n",
        "import pandas as pd\n",
        "\n",
        "from pandas import Series, DataFrame"
      ]
    },
    {
      "cell_type": "code",
      "execution_count": null,
      "metadata": {
        "id": "JiY0cfvf2vdj",
        "outputId": "10e889ed-8996-4c70-a979-628a80fa84df"
      },
      "outputs": [
        {
          "data": {
            "text/html": [
              "<div>\n",
              "<style>\n",
              "    .dataframe thead tr:only-child th {\n",
              "        text-align: right;\n",
              "    }\n",
              "\n",
              "    .dataframe thead th {\n",
              "        text-align: left;\n",
              "    }\n",
              "\n",
              "    .dataframe tbody tr th {\n",
              "        vertical-align: top;\n",
              "    }\n",
              "</style>\n",
              "<table border=\"1\" class=\"dataframe\">\n",
              "  <thead>\n",
              "    <tr style=\"text-align: right;\">\n",
              "      <th></th>\n",
              "      <th>0</th>\n",
              "      <th>1</th>\n",
              "      <th>2</th>\n",
              "      <th>3</th>\n",
              "      <th>4</th>\n",
              "      <th>5</th>\n",
              "    </tr>\n",
              "  </thead>\n",
              "  <tbody>\n",
              "    <tr>\n",
              "      <th>0</th>\n",
              "      <td>0.228273</td>\n",
              "      <td>1.026890</td>\n",
              "      <td>-0.839585</td>\n",
              "      <td>-0.591182</td>\n",
              "      <td>-0.956888</td>\n",
              "      <td>-0.222326</td>\n",
              "    </tr>\n",
              "    <tr>\n",
              "      <th>1</th>\n",
              "      <td>-0.619915</td>\n",
              "      <td>1.837905</td>\n",
              "      <td>-2.053231</td>\n",
              "      <td>0.868583</td>\n",
              "      <td>-0.920734</td>\n",
              "      <td>NaN</td>\n",
              "    </tr>\n",
              "    <tr>\n",
              "      <th>2</th>\n",
              "      <td>2.152957</td>\n",
              "      <td>-1.334661</td>\n",
              "      <td>0.076380</td>\n",
              "      <td>-1.246089</td>\n",
              "      <td>1.202272</td>\n",
              "      <td>NaN</td>\n",
              "    </tr>\n",
              "    <tr>\n",
              "      <th>3</th>\n",
              "      <td>NaN</td>\n",
              "      <td>-0.419678</td>\n",
              "      <td>2.294842</td>\n",
              "      <td>-2.594487</td>\n",
              "      <td>2.822756</td>\n",
              "      <td>NaN</td>\n",
              "    </tr>\n",
              "    <tr>\n",
              "      <th>4</th>\n",
              "      <td>NaN</td>\n",
              "      <td>-1.976254</td>\n",
              "      <td>0.533340</td>\n",
              "      <td>-0.290870</td>\n",
              "      <td>-0.513520</td>\n",
              "      <td>NaN</td>\n",
              "    </tr>\n",
              "    <tr>\n",
              "      <th>5</th>\n",
              "      <td>NaN</td>\n",
              "      <td>-1.839905</td>\n",
              "      <td>1.607671</td>\n",
              "      <td>0.388292</td>\n",
              "      <td>0.399732</td>\n",
              "      <td>0.405477</td>\n",
              "    </tr>\n",
              "  </tbody>\n",
              "</table>\n",
              "</div>"
            ],
            "text/plain": [
              "          0         1         2         3         4         5\n",
              "0  0.228273  1.026890 -0.839585 -0.591182 -0.956888 -0.222326\n",
              "1 -0.619915  1.837905 -2.053231  0.868583 -0.920734       NaN\n",
              "2  2.152957 -1.334661  0.076380 -1.246089  1.202272       NaN\n",
              "3       NaN -0.419678  2.294842 -2.594487  2.822756       NaN\n",
              "4       NaN -1.976254  0.533340 -0.290870 -0.513520       NaN\n",
              "5       NaN -1.839905  1.607671  0.388292  0.399732  0.405477"
            ]
          },
          "execution_count": 2,
          "metadata": {},
          "output_type": "execute_result"
        }
      ],
      "source": [
        "em_branco = np.nan\n",
        "np.random.seed(25)\n",
        "df = DataFrame(np.random.randn(36).reshape(6,6))\n",
        "df.loc[3:5, 0] = em_branco\n",
        "df.loc[1:4, 5] = em_branco\n",
        "df"
      ]
    },
    {
      "cell_type": "markdown",
      "metadata": {
        "id": "_-sQjzdZ2vdk"
      },
      "source": [
        "### Contando valores em branco\n",
        "\n",
        "#### nome_do_objeto.isnull().sum()\n",
        "\n",
        "♔┈♔┈♔┈( O QUE ISSO FAZ ) ┈♔┈♔┈♔\n",
        "\n",
        "Para calcular a quantidade de valores nulos que o nosso DataFrame tem por coluna podemos usar o método `.isnull()`, e então usar o método `.sum()` a partir da matriz de valores Booleanos."
      ]
    },
    {
      "cell_type": "code",
      "execution_count": null,
      "metadata": {
        "id": "NLc982wi2vdl",
        "outputId": "62921bd6-48bc-41c5-e1b4-5e1262b80cc0"
      },
      "outputs": [
        {
          "data": {
            "text/plain": [
              "0    3\n",
              "1    0\n",
              "2    0\n",
              "3    0\n",
              "4    0\n",
              "5    4\n",
              "dtype: int64"
            ]
          },
          "execution_count": 3,
          "metadata": {},
          "output_type": "execute_result"
        }
      ],
      "source": [
        "df.isnull().sum()"
      ]
    },
    {
      "cell_type": "markdown",
      "metadata": {
        "id": "s9Zbyp6A2vdl"
      },
      "source": [
        "### Removendo valore sem branco\n",
        "\n",
        "#### nome_do_objeto.dropna()\n",
        "\n",
        "♔┈♔┈♔┈( O QUE ISSO FAZ ) ┈♔┈♔┈♔\n",
        "\n",
        "Para identificar e remover as linhas que contém qualquer valor nulo, usamos o método `.dropna()`.\n",
        "\n",
        "NOTA: Se você quiser remover as colunas que apresentam valores nulos, basta passar `axis=1` como argumento para o método para que ele considere colunas ao invés de linhas."
      ]
    },
    {
      "cell_type": "code",
      "execution_count": null,
      "metadata": {
        "id": "Fi8aqfQc2vdm",
        "outputId": "d29734fe-a714-4f66-d35a-45040f682ada"
      },
      "outputs": [
        {
          "data": {
            "text/html": [
              "<div>\n",
              "<style>\n",
              "    .dataframe thead tr:only-child th {\n",
              "        text-align: right;\n",
              "    }\n",
              "\n",
              "    .dataframe thead th {\n",
              "        text-align: left;\n",
              "    }\n",
              "\n",
              "    .dataframe tbody tr th {\n",
              "        vertical-align: top;\n",
              "    }\n",
              "</style>\n",
              "<table border=\"1\" class=\"dataframe\">\n",
              "  <thead>\n",
              "    <tr style=\"text-align: right;\">\n",
              "      <th></th>\n",
              "      <th>1</th>\n",
              "      <th>2</th>\n",
              "      <th>3</th>\n",
              "      <th>4</th>\n",
              "    </tr>\n",
              "  </thead>\n",
              "  <tbody>\n",
              "    <tr>\n",
              "      <th>0</th>\n",
              "      <td>1.026890</td>\n",
              "      <td>-0.839585</td>\n",
              "      <td>-0.591182</td>\n",
              "      <td>-0.956888</td>\n",
              "    </tr>\n",
              "    <tr>\n",
              "      <th>1</th>\n",
              "      <td>1.837905</td>\n",
              "      <td>-2.053231</td>\n",
              "      <td>0.868583</td>\n",
              "      <td>-0.920734</td>\n",
              "    </tr>\n",
              "    <tr>\n",
              "      <th>2</th>\n",
              "      <td>-1.334661</td>\n",
              "      <td>0.076380</td>\n",
              "      <td>-1.246089</td>\n",
              "      <td>1.202272</td>\n",
              "    </tr>\n",
              "    <tr>\n",
              "      <th>3</th>\n",
              "      <td>-0.419678</td>\n",
              "      <td>2.294842</td>\n",
              "      <td>-2.594487</td>\n",
              "      <td>2.822756</td>\n",
              "    </tr>\n",
              "    <tr>\n",
              "      <th>4</th>\n",
              "      <td>-1.976254</td>\n",
              "      <td>0.533340</td>\n",
              "      <td>-0.290870</td>\n",
              "      <td>-0.513520</td>\n",
              "    </tr>\n",
              "    <tr>\n",
              "      <th>5</th>\n",
              "      <td>-1.839905</td>\n",
              "      <td>1.607671</td>\n",
              "      <td>0.388292</td>\n",
              "      <td>0.399732</td>\n",
              "    </tr>\n",
              "  </tbody>\n",
              "</table>\n",
              "</div>"
            ],
            "text/plain": [
              "          1         2         3         4\n",
              "0  1.026890 -0.839585 -0.591182 -0.956888\n",
              "1  1.837905 -2.053231  0.868583 -0.920734\n",
              "2 -1.334661  0.076380 -1.246089  1.202272\n",
              "3 -0.419678  2.294842 -2.594487  2.822756\n",
              "4 -1.976254  0.533340 -0.290870 -0.513520\n",
              "5 -1.839905  1.607671  0.388292  0.399732"
            ]
          },
          "execution_count": 4,
          "metadata": {},
          "output_type": "execute_result"
        }
      ],
      "source": [
        "df_limpo = df.dropna(axis=1)\n",
        "df_limpo"
      ]
    },
    {
      "cell_type": "code",
      "execution_count": null,
      "metadata": {
        "collapsed": true,
        "id": "NK43fjhO2vdm"
      },
      "outputs": [],
      "source": [
        ""
      ]
    }
  ],
  "metadata": {
    "anaconda-cloud": {},
    "kernelspec": {
      "display_name": "Python 3",
      "language": "python",
      "name": "python3"
    },
    "language_info": {
      "codemirror_mode": {
        "name": "ipython",
        "version": 3
      },
      "file_extension": ".py",
      "mimetype": "text/x-python",
      "name": "python",
      "nbconvert_exporter": "python",
      "pygments_lexer": "ipython3",
      "version": "3.6.2"
    },
    "colab": {
      "name": "06_Contando_e_removendo_valores_em_branco.ipynb",
      "provenance": [],
      "include_colab_link": true
    }
  },
  "nbformat": 4,
  "nbformat_minor": 0
}