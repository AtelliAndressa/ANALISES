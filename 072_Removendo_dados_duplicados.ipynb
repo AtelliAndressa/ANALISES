{
  "cells": [
    {
      "cell_type": "markdown",
      "metadata": {
        "id": "view-in-github",
        "colab_type": "text"
      },
      "source": [
        "<a href=\"https://colab.research.google.com/github/AtelliAndressa/ANALISES/blob/main/072_Removendo_dados_duplicados.ipynb\" target=\"_parent\"><img src=\"https://colab.research.google.com/assets/colab-badge.svg\" alt=\"Open In Colab\"/></a>"
      ]
    },
    {
      "cell_type": "markdown",
      "metadata": {
        "id": "y9I4QyZg25i9"
      },
      "source": [
        "___\n",
        "# Capítulo 1 - Manipulação de dados: Básico\n",
        "## Seção 7 - Removendo dados duplicados\n",
        "___"
      ]
    },
    {
      "cell_type": "code",
      "execution_count": null,
      "metadata": {
        "id": "GsIF4BFv25jC",
        "outputId": "a6950325-9fe5-4ac7-f460-65f3c5a9f29f"
      },
      "outputs": [
        {
          "ename": "SyntaxError",
          "evalue": "invalid syntax (<ipython-input-1-9a00e6d24ec5>, line 4)",
          "output_type": "error",
          "traceback": [
            "\u001b[1;36m  File \u001b[1;32m\"<ipython-input-1-9a00e6d24ec5>\"\u001b[1;36m, line \u001b[1;32m4\u001b[0m\n\u001b[1;33m    from pandas import\u001b[0m\n\u001b[1;37m                       ^\u001b[0m\n\u001b[1;31mSyntaxError\u001b[0m\u001b[1;31m:\u001b[0m invalid syntax\n"
          ]
        }
      ],
      "source": [
        "import numpy as np\n",
        "import pandas as pd\n",
        "\n",
        "from pandas import \n",
        "DataFrame"
      ]
    },
    {
      "cell_type": "code",
      "execution_count": null,
      "metadata": {
        "id": "6lvY47T225jD"
      },
      "outputs": [],
      "source": [
        "dados = {\n",
        "    'coluna 1': [1, 1, 2, 2, 3, 3, 3],\n",
        "    'coluna 2': ['a', 'a', 'b', 'b', 'c', 'c', 'c'],\n",
        "    'coluna 3': ['A', 'A', 'B', 'B', 'C', 'C', 'C'],\n",
        "}\n",
        "\n",
        "df = DataFrame(dados)\n",
        "df"
      ]
    },
    {
      "cell_type": "markdown",
      "metadata": {
        "id": "m-xk9ASG25jE"
      },
      "source": [
        "### Removendo dados duplicados\n",
        "\n",
        "#### nome_do_objeto.duplicated()\n",
        "\n",
        "♔┈♔┈♔┈( O QUE ISSO FAZ )┈♔┈♔┈♔\n",
        "\n",
        "O método .duplicated() confere se cada linha é uma duplicata de uma linha anteriore cria uma Serie de valores True ou False indicando se a linha é uma linha duplicada ou nao no dataframe"
      ]
    },
    {
      "cell_type": "code",
      "execution_count": null,
      "metadata": {
        "id": "TB5UyZX-25jE"
      },
      "outputs": [],
      "source": [
        "df.duplicated()"
      ]
    },
    {
      "cell_type": "markdown",
      "metadata": {
        "id": "MIJW2FvT25jF"
      },
      "source": [
        "#### nome_do_objeto.drop_duplicates()\n",
        "\n",
        "♔┈♔┈♔┈( O QUE ISSO FAZ )┈♔┈♔┈♔\n",
        "\n",
        "Para remover todas as linhas repetidas, usamos o método `.drop_duplicates()`. Lembre-se para alterar o objeto ao invés de criar um novo, devemos usar o parâmetro `inplace`."
      ]
    },
    {
      "cell_type": "code",
      "execution_count": null,
      "metadata": {
        "id": "c_QrKqdI25jF"
      },
      "outputs": [],
      "source": [
        "df.drop_duplicates()"
      ]
    },
    {
      "cell_type": "code",
      "execution_count": null,
      "metadata": {
        "id": "2JB10i5r25jF"
      },
      "outputs": [],
      "source": [
        "df"
      ]
    },
    {
      "cell_type": "markdown",
      "metadata": {
        "id": "EueaocBJ25jG"
      },
      "source": [
        "#### nome_do_objeto.drop_duplicates(['nome_da_coluna'])\n",
        "\n",
        "♔┈♔┈♔┈( O QUE ISSO FAZ )┈♔┈♔┈♔\n",
        "\n",
        "\n",
        "Para remover linhas repetidas considerando apenas uma columna, passamos para o método `.drop_duplicates()` uma lista com o nome da coluna que ele deverá considerar."
      ]
    },
    {
      "cell_type": "code",
      "execution_count": null,
      "metadata": {
        "id": "3ud0y7gL25jG"
      },
      "outputs": [],
      "source": [
        "dados = {\n",
        "    'coluna 1': [1, 1, 2, 2, 3, 3, 3],\n",
        "    'coluna 2': ['a', 'a', 'b', 'b', 'c', 'c', 'c'],\n",
        "    'coluna 3': ['D', 'A', 'B', 'B', 'C', 'C', 'C'],\n",
        "}\n",
        "\n",
        "df = DataFrame(dados)\n",
        "df"
      ]
    },
    {
      "cell_type": "code",
      "execution_count": null,
      "metadata": {
        "id": "36wanV4j25jH"
      },
      "outputs": [],
      "source": [
        "df.drop_duplicates(['coluna 3'])"
      ]
    },
    {
      "cell_type": "code",
      "execution_count": null,
      "metadata": {
        "collapsed": true,
        "id": "Sb-VQX_u25jH"
      },
      "outputs": [],
      "source": [
        ""
      ]
    }
  ],
  "metadata": {
    "anaconda-cloud": {},
    "kernelspec": {
      "display_name": "Python 3",
      "language": "python",
      "name": "python3"
    },
    "language_info": {
      "codemirror_mode": {
        "name": "ipython",
        "version": 3
      },
      "file_extension": ".py",
      "mimetype": "text/x-python",
      "name": "python",
      "nbconvert_exporter": "python",
      "pygments_lexer": "ipython3",
      "version": "3.6.2"
    },
    "colab": {
      "name": "07_Removendo_dados_duplicados.ipynb",
      "provenance": [],
      "include_colab_link": true
    }
  },
  "nbformat": 4,
  "nbformat_minor": 0
}