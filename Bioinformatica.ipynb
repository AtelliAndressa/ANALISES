{
  "nbformat": 4,
  "nbformat_minor": 0,
  "metadata": {
    "colab": {
      "name": "Bioinformatica.ipynb",
      "provenance": [],
      "collapsed_sections": [],
      "authorship_tag": "ABX9TyMRNO+RkZYWrzwgRlY22GkX",
      "include_colab_link": true
    },
    "kernelspec": {
      "name": "python3",
      "display_name": "Python 3"
    }
  },
  "cells": [
    {
      "cell_type": "markdown",
      "metadata": {
        "id": "view-in-github",
        "colab_type": "text"
      },
      "source": [
        "<a href=\"https://colab.research.google.com/github/AtelliAndressa/ANALISES/blob/main/Bioinformatica.ipynb\" target=\"_parent\"><img src=\"https://colab.research.google.com/assets/colab-badge.svg\" alt=\"Open In Colab\"/></a>"
      ]
    },
    {
      "cell_type": "markdown",
      "metadata": {
        "id": "M0uJ4akbw3fe"
      },
      "source": [
        "Análise Bioinformática \"Genomas\"\r\n",
        "Autor: Andressa Atelli\r\n"
      ]
    },
    {
      "cell_type": "code",
      "metadata": {
        "id": "EnGq6m8SxCuy"
      },
      "source": [
        "import matplotlib.pyplot as plt"
      ],
      "execution_count": 7,
      "outputs": []
    },
    {
      "cell_type": "code",
      "metadata": {
        "id": "OUibC82ixnOu"
      },
      "source": [
        "entrada = open(\"bacteria.fasta\").read()    #arquivo que vai ser lido\r\n",
        "saida = open(\"bacteria.html\", \"w\")             #arquivo será salvo neste formato\r\n",
        "entrada = entrada.replace(\"\\n\",\"\")\r\n",
        "cont = {}   #criamos um dicionario para receber os elementos\r\n",
        "for i in ['A', 'T', 'C', 'G']:  #percorre o primeiro elemento de cada\r\n",
        "  for j in ['A', 'T', 'C', 'G']:  #percorre o segundo elemento de cada\r\n",
        "    cont[i+j] = 0   #vai gerar 16 valores, 4 combinações com cada letra\r\n",
        "\r\n",
        "for k in range(len(entrada)-1):   #vai percorrer cada elemento da entrada até o penultimo, porque é par em par\r\n",
        "  cont[entrada[k]+ entrada[k+1]] += 1\r\n",
        "\r\n",
        "\r\n",
        "c= 1 \r\n",
        "for k in cont:                                 #aqui vai alterar a cor de acordo com o numero de elementos\r\n",
        "  transparencia = cont[k]/max(cont.values())   #numero de elementos de cada elemento i dividido pelo maior valor de elementos que foi achado\r\n",
        "  saida.write(\"<div style ='width:100px; border:1px solid #111; color:#fff; height:100px; float:left; background-color:rgba(0,0,0,\"+str(transparencia)+\"')>\"+k+\"</div>\")\r\n",
        "  if c%4 == 0:\r\n",
        "    saida.write(\"<div style='clear:both'></div>\")    #força o html a fazer uma quebra de linha\r\n",
        "  c+=1\r\n",
        "\r\n",
        "saida.close()"
      ],
      "execution_count": 27,
      "outputs": []
    },
    {
      "cell_type": "code",
      "metadata": {
        "id": "NjNbboOuLNIi"
      },
      "source": [
        "entrada = open(\"human.fasta\").read()    #arquivo que vai ser lido\r\n",
        "saida = open(\"human.html\", \"w\")             #arquivo será salvo neste formato\r\n",
        "entrada = entrada.replace(\"\\n\",\"\")\r\n",
        "cont = {}   #criamos um dicionario para receber os elementos\r\n",
        "for i in ['A', 'T', 'C', 'G']:  #percorre o primeiro elemento de cada\r\n",
        "  for j in ['A', 'T', 'C', 'G']:  #percorre o segundo elemento de cada\r\n",
        "    cont[i+j] = 0   #vai gerar 16 valores, 4 combinações com cada letra\r\n",
        "\r\n",
        "for k in range(len(entrada)-1):   #vai percorrer cada elemento da entrada até o penultimo, porque é par em par\r\n",
        "  cont[entrada[k]+ entrada[k+1]] += 1\r\n",
        "\r\n",
        "\r\n",
        "c= 1 \r\n",
        "for k in cont:                                 #aqui vai alterar a cor de acordo com o numero de elementos\r\n",
        "  transparencia = cont[k]/max(cont.values())   #numero de elementos de cada elemento i dividido pelo maior valor de elementos que foi achado\r\n",
        "  saida.write(\"<div style ='width:100px; border:1px solid #111; color:#fff; height:100px; float:left; background-color:rgba(0,0,0,\"+str(transparencia)+\"')>\"+k+\"</div>\")\r\n",
        "  if c%4 == 0:\r\n",
        "    saida.write(\"<div style='clear:both'></div>\")    #força o html a fazer uma quebra de linha\r\n",
        "  c+=1\r\n",
        "\r\n",
        "saida.close()"
      ],
      "execution_count": 28,
      "outputs": []
    }
  ]
}