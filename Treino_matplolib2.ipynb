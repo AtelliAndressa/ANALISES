{
  "nbformat": 4,
  "nbformat_minor": 0,
  "metadata": {
    "colab": {
      "name": "Treino_matplolib2.ipynb",
      "provenance": [],
      "collapsed_sections": [],
      "authorship_tag": "ABX9TyOfEjMwPVwFqh4urwJnze11",
      "include_colab_link": true
    },
    "kernelspec": {
      "name": "python3",
      "display_name": "Python 3"
    }
  },
  "cells": [
    {
      "cell_type": "markdown",
      "metadata": {
        "id": "view-in-github",
        "colab_type": "text"
      },
      "source": [
        "<a href=\"https://colab.research.google.com/github/AtelliAndressa/ANALISES/blob/main/Treino_matplolib2.ipynb\" target=\"_parent\"><img src=\"https://colab.research.google.com/assets/colab-badge.svg\" alt=\"Open In Colab\"/></a>"
      ]
    },
    {
      "cell_type": "code",
      "metadata": {
        "id": "jeEGD7bjrcn1"
      },
      "source": [
        "#Boxplot - diagrama de caixa\n",
        "\n",
        "import matplotlib.pyplot as plt\n",
        "import random"
      ],
      "execution_count": null,
      "outputs": []
    },
    {
      "cell_type": "code",
      "metadata": {
        "colab": {
          "base_uri": "https://localhost:8080/",
          "height": 281
        },
        "id": "3q1wk1cltwrU",
        "outputId": "a0eeae2a-0f11-4f70-8c4a-52eada7fdda3"
      },
      "source": [
        "vetor = []\n",
        "\n",
        "for i in range(10):    #vai variar de 0 a 99\n",
        "  numero_aleatorio = random.randint(0,10)\n",
        "  vetor.append(numero_aleatorio)\n",
        "\n",
        "plt.title(\"Boxplot\")\n",
        "plt.boxplot(vetor)\n",
        "plt.show()"
      ],
      "execution_count": null,
      "outputs": [
        {
          "output_type": "display_data",
          "data": {
            "image/png": "[encoded data removed]",
            "text/plain": [
              "<Figure size 432x288 with 1 Axes>"
            ]
          },
          "metadata": {
            "tags": [],
            "needs_background": "light"
          }
        }
      ]
    },
    {
      "cell_type": "code",
      "metadata": {
        "id": "-BfL8oPgtxCs"
      },
      "source": [
        ""
      ],
      "execution_count": null,
      "outputs": []
    }
  ]
}