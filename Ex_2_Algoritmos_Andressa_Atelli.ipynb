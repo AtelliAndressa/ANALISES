{
  "cells": [
    {
      "cell_type": "markdown",
      "metadata": {
        "id": "view-in-github",
        "colab_type": "text"
      },
      "source": [
        "<a href=\"https://colab.research.google.com/github/AtelliAndressa/ANALISES/blob/main/Ex_2_Algoritmos_Andressa_Atelli.ipynb\" target=\"_parent\"><img src=\"https://colab.research.google.com/assets/colab-badge.svg\" alt=\"Open In Colab\"/></a>"
      ]
    },
    {
      "cell_type": "markdown",
      "metadata": {
        "id": "b88Aqkm34jwa"
      },
      "source": [
        "# Disciplina: Algoritmos e Introdução a Computação\n",
        "   "
      ]
    },
    {
      "cell_type": "code",
      "execution_count": null,
      "metadata": {
        "id": "NIuZ_ZqY4jwe"
      },
      "outputs": [],
      "source": [
        "# Prof. Rafael Christófano\n",
        "# Turma: 2020-2"
      ]
    },
    {
      "cell_type": "code",
      "execution_count": null,
      "metadata": {
        "id": "EEzy-XlF4jwf"
      },
      "outputs": [],
      "source": [
        "# Aluno: Andressa Flavia Atelli de Sá"
      ]
    },
    {
      "cell_type": "markdown",
      "metadata": {
        "id": "2Nkq_QLJ4jwg"
      },
      "source": [
        "# Segunda Lista de Exercícios em Python"
      ]
    },
    {
      "cell_type": "code",
      "execution_count": null,
      "metadata": {
        "id": "Owj5roql4jwg",
        "outputId": "8c555a94-2e59-4d2d-b09f-919de5b2e034"
      },
      "outputs": [
        {
          "name": "stdout",
          "output_type": "stream",
          "text": [
            "Digite um numero: 15\n",
            "Digite um numero: 15\n",
            "O conteúdo é igual.\n"
          ]
        }
      ],
      "source": [
        "# 1 - Faça um programa que verifique se 2 variáveis tem o mesmo conteúdo.\n",
        "x = input(\"Digite um numero: \")\n",
        "y = input(\"Digite um numero: \")\n",
        "if x==y:\n",
        "    print(\"O conteúdo é igual.\")\n",
        "else:\n",
        "    print(\"O Conteúdo é diferente.\")"
      ]
    },
    {
      "cell_type": "code",
      "execution_count": null,
      "metadata": {
        "id": "oq3KMQNh4jwh",
        "outputId": "070c7de3-38ad-4ff1-afcb-0e585189457f"
      },
      "outputs": [
        {
          "name": "stdout",
          "output_type": "stream",
          "text": [
            "Digite uma palavra: Andressa \n",
            "Digite outra palavra: Atelli\n",
            "Não possui a mesma quantidade de caractere. Tente outra vez.\n"
          ]
        }
      ],
      "source": [
        "# 2 - Faça um prog rama que verifique se duas variáveis string tem a mesma quantidade de caracteres.\n",
        "x = input(\"Digite uma palavra: \")\n",
        "y = input(\"Digite outra palavra: \")\n",
        "if (len(x)) == (len(y)):\n",
        "    print(\"A quantidade de caracteres é igual.\")\n",
        "else:\n",
        "    print(\"Não possui a mesma quantidade de caractere. Tente outra vez.\")"
      ]
    },
    {
      "cell_type": "code",
      "execution_count": null,
      "metadata": {
        "id": "8746YshN4jwh",
        "outputId": "db3af086-3c38-427e-da83-b293bb2f43b6"
      },
      "outputs": [
        {
          "name": "stdout",
          "output_type": "stream",
          "text": [
            "Digite o primeiro número: 15\n",
            "Digite o segundo número: 25\n",
            "O segundo número é o maior.\n"
          ]
        }
      ],
      "source": [
        "# 3 - Faça um programa que solicite ao usuário dois numeros e mostre qual deles é o maior. Se por acaso for iguais,\n",
        "# mostre a mensagem \"Números iguais\".\n",
        "prim = input(\"Digite o primeiro número: \")\n",
        "seg = input(\"Digite o segundo número: \")\n",
        "if (prim > seg):\n",
        "    print(\"O primeiro número é o maior.\")\n",
        "elif (seg > prim):\n",
        "    print(\"O segundo número é o maior.\")\n",
        "elif (prim == seg):\n",
        "    print(\"Números iguais.\")"
      ]
    },
    {
      "cell_type": "code",
      "execution_count": null,
      "metadata": {
        "id": "Gp7bAVDf4jwi",
        "outputId": "9d211e82-a781-415d-86c5-92e71bf493d4"
      },
      "outputs": [
        {
          "name": "stdout",
          "output_type": "stream",
          "text": [
            "Digite um número 4\n",
            "A raiz quadrada é  2.0\n"
          ]
        }
      ],
      "source": [
        "# 4 - Faça um programa que solicite ao usuário um número. Se esse número for positivo, calcule a raiz quadrada do\n",
        "# número. Se o número for negativo, mostre uma mensagem dizendo que o número é inválido.\n",
        "# Dica: use a função Built In pow() elevado a 1/2\n",
        "\n",
        "num = float(input(\"Digite um número \"))\n",
        "if num < 0:\n",
        "    print(\"Número inválido.\")\n",
        "else:\n",
        "    raiz = num ** (1/2)\n",
        "    print(\"A raiz quadrada é \", raiz)\n",
        "\n",
        "    \n"
      ]
    },
    {
      "cell_type": "code",
      "execution_count": null,
      "metadata": {
        "id": "R8gRvkRu4jwi",
        "outputId": "39de9536-babd-4d58-eba2-f8581556cde8"
      },
      "outputs": [
        {
          "name": "stdout",
          "output_type": "stream",
          "text": [
            "Digite um número: 20\n",
            "O número 20 é par. \n"
          ]
        }
      ],
      "source": [
        "# 5 - Faça um programa que receba um numero inteiro e verifique se este número é par ou é ımpar.\n",
        "\n",
        "n = int(input(\"Digite um número: \"))\n",
        "if (n % 2 == 0):\n",
        "    print(\"O número {} é par. \" .format(n))\n",
        "else:\n",
        "    print(\"O número {} é impar.\" .format(n))"
      ]
    },
    {
      "cell_type": "code",
      "execution_count": null,
      "metadata": {
        "id": "1yQJlRdy4jwi",
        "outputId": "b158bd0d-6a7e-4e3e-82f0-80e2858d2878"
      },
      "outputs": [
        {
          "name": "stdout",
          "output_type": "stream",
          "text": [
            "Digite um ano: 2020\n",
            "O ano é Bissexto.\n"
          ]
        }
      ],
      "source": [
        "# 6 - A partir de um número, determine se um determinado ano é bissexto.\n",
        "\n",
        "ano = int(input(\"Digite um ano: \"))\n",
        "if ano % 100 != 0 and ano % 4 == 0 or ano % 400 == 0:\n",
        "    print(\"O ano é Bissexto.\")\n",
        "else:\n",
        "    print(\"O ano não é bissexto.\")\n",
        "    \n",
        "\n"
      ]
    },
    {
      "cell_type": "code",
      "execution_count": null,
      "metadata": {
        "id": "LlC7Qmbt4jwj",
        "outputId": "b87bb036-687c-4ac9-f20a-a438eb16b967"
      },
      "outputs": [
        {
          "name": "stdout",
          "output_type": "stream",
          "text": [
            "Digite a 1° nota: 6\n",
            "Digite a 2° nota: 6\n",
            "Digite a 3° nota: 6\n",
            "Digite a 4° nota: 6\n",
            "Aprovado\n"
          ]
        }
      ],
      "source": [
        "# 6 - Faça um programa que peça as 4 notas bimestrais e mostre a média. Verifique se a média for maior ou igual a 6\n",
        "#e imprima a mensagem 'Aprovado' ou 'Reprovado'.\n",
        "\n",
        "n1 = float(input(\"Digite a 1° nota: \"))\n",
        "n2 = float(input(\"Digite a 2° nota: \"))\n",
        "n3 = float(input(\"Digite a 3° nota: \"))\n",
        "n4 = float(input(\"Digite a 4° nota: \"))\n",
        "media = (n1 + n2 + n3 + n4) / 4\n",
        "\n",
        "if media >= 6:\n",
        "    print(\"Aprovado\")\n",
        "else:\n",
        "    print(\"Reprovado\")\n"
      ]
    },
    {
      "cell_type": "code",
      "execution_count": null,
      "metadata": {
        "id": "foI5gVED4jwj",
        "outputId": "24f73a9d-5e6b-4eb3-c946-3feb369523e4"
      },
      "outputs": [
        {
          "name": "stdout",
          "output_type": "stream",
          "text": [
            "Número: 251\n",
            "8\n"
          ]
        }
      ],
      "source": [
        "# 7 - Faça um programa que solicite ao usuário um número inteiro maior do que zero e com três algarimos e devolva, na tela,\n",
        "# a soma de todos os seus algarismos. Por exemplo, ao numero 251 corresponderá o valor 8 (2 + 5 + 1). \n",
        "# Se o numero lido não for maior do que zero, o programa terminará com a mensagem “Numero inválido”.\n",
        "\n",
        "numero = input('Número: ')\n",
        "\n",
        "if len(numero) == 3:\n",
        "    print(sum(map(int, numero)))\n",
        "else:\n",
        "    print('Numero inválido')"
      ]
    },
    {
      "cell_type": "code",
      "execution_count": null,
      "metadata": {
        "id": "CJB6XtxI4jwk",
        "outputId": "4161801a-fa47-4619-a016-02031e445867"
      },
      "outputs": [
        {
          "name": "stdout",
          "output_type": "stream",
          "text": [
            "Digite uma Data no formato (dd / mm / aaaa):18/09/2020\n",
            "Adamantina, dia 18 de 09 de 2020\n"
          ]
        }
      ],
      "source": [
        "# 8 - Faça um programa que solicite uma data no formato DD/MM/AAAA. E imprima a mensagem 'Adamantina, DD de MM de AAAA\n",
        "\n",
        "dia, mês, ano = input ('Digite uma Data no formato (dd / mm / aaaa):') .split ('/')\n",
        "\n",
        "print('Adamantina, dia % s de % s de % s'% (dia,mês, ano))\n"
      ]
    },
    {
      "cell_type": "code",
      "execution_count": null,
      "metadata": {
        "id": "NwG8mbgn4jwk",
        "outputId": "94d7bad6-8fc1-4620-999f-5cb027e67016"
      },
      "outputs": [
        {
          "name": "stdout",
          "output_type": "stream",
          "text": [
            "Digite a hora: 1915\n",
            "Boa noite\n"
          ]
        }
      ],
      "source": [
        "# 9 - Faça um programa que solicite a hora no formato HH:MM, se o horário for antes do meio dia imprima 'Bom Dia!', \n",
        "#se for entre meio dia e seis da tarde imprima 'Boa Tarde!', se for após as seis da tarde imprima 'Boa Noite!' \n",
        "\n",
        "hora = input(\"Digite a hora: \")\n",
        "\n",
        "if int(hora[:2]) >= 0 and int(hora[:2]) < 12:\n",
        "    print(\"Bom dia\")\n",
        "elif int(hora[:2]) >= 12 and int(hora[:2]) < 18:\n",
        "    print(\"Boa tarde\")\n",
        "elif int(hora[:2]) >= 18 and int(hora[:2]) < 24:\n",
        "    print(\"Boa noite\")"
      ]
    },
    {
      "cell_type": "code",
      "execution_count": null,
      "metadata": {
        "id": "6LSkkrJD4jwl",
        "outputId": "a5ce1352-efe9-48c9-e3bf-50ada2993e98"
      },
      "outputs": [
        {
          "name": "stdout",
          "output_type": "stream",
          "text": [
            "Digite sua senha: ujujij\n",
            "Senha mínimo 6 caracteres alfanuméricos\n"
          ]
        }
      ],
      "source": [
        "# 10 - Faça um programa que solicite ao usuário uma senha e somente valide a senha se ela tiver pelo menor 6 caracteres e tenha letras e numeros.\n",
        "\n",
        "senha = input(\"Digite sua senha: \")\n",
        "\n",
        "if (len(senha or ()) >= 6) and (senha.isalpha()):\n",
        "    print(\"Acesso negado. Senha precisa conter no mínimo 6 caracteres alfanuméricos\")\n",
        "else:\n",
        "    print(\"Acesso permitido\")\n",
        "    \n",
        "\n",
        "  "
      ]
    },
    {
      "cell_type": "code",
      "execution_count": null,
      "metadata": {
        "id": "jDOyDAkf4jwl",
        "outputId": "4325d019-ddc8-4515-cad3-c62fd6cad2ef"
      },
      "outputs": [
        {
          "name": "stdout",
          "output_type": "stream",
          "text": [
            "Digite uma palavra: DD\n",
            "Deseja que sejam convertidos? sim\n",
            "dd\n"
          ]
        }
      ],
      "source": [
        "# 11 - Faça um programa que verifique se todos os caracteres de um valor armazenado em uma váriável estão em minúsculo, \n",
        "#se não estiver em minúsculo, o programa deve pergutar o usuário se deseja converter para minúsculo(sim ou não).\n",
        "\n",
        "carac = input(\"Digite uma palavra: \")\n",
        "x = carac.islower()     #Retorna Verdadeiro se todos os caracteres na string forem minúsculos\n",
        "y = carac.lower()       #Converte uma string em minúsculas\n",
        "\n",
        "if x == False:\n",
        "    resp = input(\"Deseja que sejam convertidos? \")\n",
        "    if resp[:2] == \"não\":\n",
        "        print(\"ok\")\n",
        "    else:\n",
        "        print(y)\n"
      ]
    },
    {
      "cell_type": "code",
      "execution_count": null,
      "metadata": {
        "id": "BJW9qJLo4jwm",
        "outputId": "8814d677-bf16-4a2c-e676-7d45e8474754"
      },
      "outputs": [
        {
          "name": "stdout",
          "output_type": "stream",
          "text": [
            "1\n"
          ]
        }
      ],
      "source": [
        "# 12 - Faça um programa que, dado uma frase, verifique se uma determinada palavra é citada pelo menos uma vez nesta frase.\n",
        "\n",
        "frase = (\"Python é uma linguagem de programação muito divertida!\")\n",
        "x = frase.count(\"linguagem\")\n",
        "\n",
        "print(x)\n"
      ]
    },
    {
      "cell_type": "code",
      "execution_count": null,
      "metadata": {
        "id": "BIHS2mwk4jwm",
        "outputId": "e2b7c6ab-479f-4776-a7dc-6a1191646674"
      },
      "outputs": [
        {
          "name": "stdout",
          "output_type": "stream",
          "text": [
            "Qual o valor ganho por hora? 85\n",
            "Qual o número de horas trabalhadas? 50\n",
            "O salário ganho líquido foi de R$  3740.00\n"
          ]
        }
      ],
      "source": [
        "# 13 - Faça um Programa que pergunte quanto você ganha por hora e o número de horas trabalhadas no mês e imprima o valor total.\n",
        "#A partir do valor total, faça os seguinte calculos:\n",
        "#    Se o valor for inferior a R$ 1000,00, adicione R$ 100,00 de salário familia.\n",
        "#    Se o valor for maior R$ 2500,00 desconte 8% IR\n",
        "#    Se o valor for maior R$ 3500,00 desconte 12% IR\n",
        "#    Se o valor for maior R$ 5000,00 desconte 20% IR\n",
        "\n",
        "\n",
        "a = float(input(\"Qual o valor ganho por hora? \"))\n",
        "b = float(input(\"Qual o número de horas trabalhadas? \"))\n",
        "total = a * b\n",
        "\n",
        "if total <= 1000.00:\n",
        "    total + 100.00\n",
        "    print(\"O valor ganho foi R$ \", format(total, '.2f'))\n",
        "elif total >= 2500.00 and total < 3500.00:\n",
        "    inss8 = total - ((total * 8) /100)\n",
        "    print(\"O salário ganho líquido foi de R$ \", format(inss8, '.2f'))\n",
        "elif total >= 3500.00 and total < 5000.00:\n",
        "    inss12 = total - ((total * 12) /100)\n",
        "    print(\"O salário ganho líquido foi de R$ \", format(inss12, '.2f'))\n",
        "elif total >= 5000.00:\n",
        "    inss20 = total - ((total * 20) /100)\n",
        "    print(\"O salário ganho líquido foi de R$ \", format(inss20, '.2f'))\n",
        "    \n",
        "    \n",
        "\n"
      ]
    },
    {
      "cell_type": "code",
      "execution_count": null,
      "metadata": {
        "id": "Zmil0zZf4jwn",
        "outputId": "7b693525-e0fe-4318-d369-46820e7bf002"
      },
      "outputs": [
        {
          "name": "stdout",
          "output_type": "stream",
          "text": [
            "Digite o primeiro lado do triângulo em cm: 14\n",
            "Digite o segundo lado do triângulo em cm: 14\n",
            "Digite o terceiro lado do triângulo em cm: 16\n",
            "Esse triângulo é um Isosceles.\n"
          ]
        }
      ],
      "source": [
        "# 14 - Dados três valores, A, B, C, verificar se eles podem ser valores dos lados de um triangulo e, se forem,\n",
        "# se é um triângulo escaleno, equilátero ou isóscele, considerando os seguintes conceitos:\n",
        "# • Chama-se equilatero o triângulo que tem três lados iguais.\n",
        "# • Denominam-se isosceles o triângulo que tem o comprimento de dois lados iguais.\n",
        "# • Recebe o nome de escaleno o triângulo que tem os três lados diferentes.\n",
        "\n",
        "ladoA = int(input(\"Digite o primeiro lado do triângulo em cm: \"))\n",
        "ladoB = int(input(\"Digite o segundo lado do triângulo em cm: \"))\n",
        "ladoC = int(input(\"Digite o terceiro lado do triângulo em cm: \"))\n",
        "\n",
        "if (ladoA == ladoB) and (ladoB == ladoC) and (ladoA == ladoC):\n",
        "    print(\"Esse triângulo é um Equilatero.\")\n",
        "elif (ladoA != ladoB) and (ladoB != ladoC) and (ladoC != ladoA):\n",
        "    print(\"Esse triângulo é um escaleno.\")\n",
        "else:\n",
        "    print(\"Esse triângulo é um Isosceles.\")\n"
      ]
    },
    {
      "cell_type": "code",
      "execution_count": null,
      "metadata": {
        "id": "u2TcYsc14jwn",
        "outputId": "2c1a6d49-2e77-46f1-cafd-cf048f73f38d"
      },
      "outputs": [
        {
          "name": "stdout",
          "output_type": "stream",
          "text": [
            "Quantos kg pegou de peixe? 50\n",
            "você está dentro da pesagem permitida.\n"
          ]
        }
      ],
      "source": [
        "# 15 - Aprimorar o software desenvolvido para o João Papo-de-Pescador para controlar o rendimento diário de seu trabalho. \n",
        "# Lembrando que toda vez que ele traz um peso de peixes maior que o estabelecido pelo regulamento de pesca do estado \n",
        "# de São Paulo (50 quilos) deve pagar uma multa de R$ 4,00 por quilo excedente. É necessário adicionar a funcionalidade \n",
        "# em que, no caso de não ultrapassar o peso estabelecido João não precisa pagar a multa alguma.\n",
        "\n",
        "peso = float(input(\"Quantos kg pegou de peixe? \"))\n",
        "excesso = peso - 50\n",
        "\n",
        "\n",
        "if peso > 50:\n",
        "    multa = excesso * 4.00\n",
        "    print(\"Você passou \", excesso, \"kg do permitido, e por isso pagará a multa no valor de R$ \", format(multa, '.2f')) \n",
        "else:\n",
        "    print(\"você está dentro da pesagem permitida.\")"
      ]
    },
    {
      "cell_type": "code",
      "execution_count": null,
      "metadata": {
        "id": "mmi0_gsr4jwn"
      },
      "outputs": [],
      "source": [
        "#Referência para consulta\n",
        "#https://www.w3schools.com/python/python_ref_string.asp\n",
        "#https://docs.python.org/pt-br/3/library/functions.html"
      ]
    }
  ],
  "metadata": {
    "kernelspec": {
      "display_name": "Python 3",
      "language": "python",
      "name": "python3"
    },
    "language_info": {
      "codemirror_mode": {
        "name": "ipython",
        "version": 3
      },
      "file_extension": ".py",
      "mimetype": "text/x-python",
      "name": "python",
      "nbconvert_exporter": "python",
      "pygments_lexer": "ipython3",
      "version": "3.8.3"
    },
    "colab": {
      "name": "Ex 2 Algoritmos Andressa Atelli.ipynb",
      "provenance": [],
      "include_colab_link": true
    }
  },
  "nbformat": 4,
  "nbformat_minor": 0
}